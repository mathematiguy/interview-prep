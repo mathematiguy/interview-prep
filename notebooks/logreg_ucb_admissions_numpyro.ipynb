{
 "cells": [
  {
   "cell_type": "markdown",
   "metadata": {
    "colab_type": "text",
    "id": "view-in-github"
   },
   "source": [
    "<a href=\"https://colab.research.google.com/github/always-newbie161/pyprobml/blob/issue_hermes78/notebooks/logreg_ucb_admissions_numpyro.ipynb\" target=\"_parent\"><img src=\"https://colab.research.google.com/assets/colab-badge.svg\" alt=\"Open In Colab\"/></a>"
   ]
  },
  {
   "cell_type": "markdown",
   "metadata": {
    "id": "bZmPN5Gu1zna"
   },
   "source": [
    "# Binomial logistic regression for UCB admissions\n",
    "\n",
    "We illustrate binary logistic regression on 2 discrete inputs using the example in sec 11.1.4  of [Statistical Rethinking ed 2](https://xcelab.net/rm/statistical-rethinking/). \n",
    "The numpyro code is from [Du Phan's site](https://fehiepsi.github.io/rethinking-numpyro/11-god-spiked-the-integers.html)\n",
    "\n"
   ]
  },
  {
   "cell_type": "code",
   "execution_count": 1,
   "metadata": {
    "colab": {
     "base_uri": "https://localhost:8080/"
    },
    "id": "HxnMvcA72EPS",
    "outputId": "18693280-d54d-485a-d0c6-135293ce1be2"
   },
   "outputs": [
    {
     "name": "stdout",
     "output_type": "stream",
     "text": [
      "jax version 0.3.1\n",
      "jax backend gpu\n"
     ]
    }
   ],
   "source": [
    "import numpy as np\n",
    "np.set_printoptions(precision=3)\n",
    "import matplotlib.pyplot as plt\n",
    "import math\n",
    "import os\n",
    "import warnings\n",
    "import pandas as pd\n",
    "\n",
    "import jax\n",
    "print(\"jax version {}\".format(jax.__version__))\n",
    "\n",
    "backend = jax.lib.xla_bridge.get_backend().platform\n",
    "print(\"jax backend {}\".format(jax.lib.xla_bridge.get_backend().platform))\n",
    "\n",
    "import jax.numpy as jnp\n",
    "from jax import random, vmap\n",
    "from jax.scipy.special import expit\n",
    "\n",
    "rng_key = random.PRNGKey(0)\n",
    "rng_key, rng_key_ = random.split(rng_key)\n",
    "\n",
    "import numpyro\n",
    "import numpyro.distributions as dist\n",
    "from numpyro.distributions import constraints\n",
    "from numpyro.distributions.transforms import AffineTransform\n",
    "from numpyro.diagnostics import hpdi, print_summary\n",
    "from numpyro.infer import Predictive\n",
    "from numpyro.infer import MCMC, NUTS\n",
    "from numpyro.infer import SVI, Trace_ELBO, init_to_value\n",
    "from numpyro.infer.autoguide import AutoLaplaceApproximation\n",
    "import numpyro.optim as optim\n",
    "\n",
    "import daft\n",
    "from causalgraphicalmodels import CausalGraphicalModel\n",
    "\n",
    "from sklearn.preprocessing import StandardScaler"
   ]
  },
  {
   "cell_type": "code",
   "execution_count": 2,
   "metadata": {
    "colab": {
     "base_uri": "https://localhost:8080/"
    },
    "id": "oKZlhvtKcDVs",
    "outputId": "55136941-f974-42e8-97b7-287ec3bd2f78"
   },
   "outputs": [
    {
     "name": "stdout",
     "output_type": "stream",
     "text": [
      "1\n"
     ]
    }
   ],
   "source": [
    "n = jax.local_device_count()\n",
    "print(n)"
   ]
  },
  {
   "cell_type": "markdown",
   "metadata": {
    "id": "JK9wTe4b2MBq"
   },
   "source": [
    "# Data"
   ]
  },
  {
   "cell_type": "code",
   "execution_count": 3,
   "metadata": {
    "colab": {
     "base_uri": "https://localhost:8080/",
     "height": 392
    },
    "id": "DmV4wYiI2F1c",
    "outputId": "dfc5ec61-7d1d-4188-bd01-6fc16e2cc011"
   },
   "outputs": [
    {
     "data": {
      "text/html": [
       "<div>\n",
       "<style scoped>\n",
       "    .dataframe tbody tr th:only-of-type {\n",
       "        vertical-align: middle;\n",
       "    }\n",
       "\n",
       "    .dataframe tbody tr th {\n",
       "        vertical-align: top;\n",
       "    }\n",
       "\n",
       "    .dataframe thead th {\n",
       "        text-align: right;\n",
       "    }\n",
       "</style>\n",
       "<table border=\"1\" class=\"dataframe\">\n",
       "  <thead>\n",
       "    <tr style=\"text-align: right;\">\n",
       "      <th></th>\n",
       "      <th>dept</th>\n",
       "      <th>applicant.gender</th>\n",
       "      <th>admit</th>\n",
       "      <th>reject</th>\n",
       "      <th>applications</th>\n",
       "    </tr>\n",
       "  </thead>\n",
       "  <tbody>\n",
       "    <tr>\n",
       "      <th>1</th>\n",
       "      <td>A</td>\n",
       "      <td>male</td>\n",
       "      <td>512</td>\n",
       "      <td>313</td>\n",
       "      <td>825</td>\n",
       "    </tr>\n",
       "    <tr>\n",
       "      <th>2</th>\n",
       "      <td>A</td>\n",
       "      <td>female</td>\n",
       "      <td>89</td>\n",
       "      <td>19</td>\n",
       "      <td>108</td>\n",
       "    </tr>\n",
       "    <tr>\n",
       "      <th>3</th>\n",
       "      <td>B</td>\n",
       "      <td>male</td>\n",
       "      <td>353</td>\n",
       "      <td>207</td>\n",
       "      <td>560</td>\n",
       "    </tr>\n",
       "    <tr>\n",
       "      <th>4</th>\n",
       "      <td>B</td>\n",
       "      <td>female</td>\n",
       "      <td>17</td>\n",
       "      <td>8</td>\n",
       "      <td>25</td>\n",
       "    </tr>\n",
       "    <tr>\n",
       "      <th>5</th>\n",
       "      <td>C</td>\n",
       "      <td>male</td>\n",
       "      <td>120</td>\n",
       "      <td>205</td>\n",
       "      <td>325</td>\n",
       "    </tr>\n",
       "    <tr>\n",
       "      <th>6</th>\n",
       "      <td>C</td>\n",
       "      <td>female</td>\n",
       "      <td>202</td>\n",
       "      <td>391</td>\n",
       "      <td>593</td>\n",
       "    </tr>\n",
       "    <tr>\n",
       "      <th>7</th>\n",
       "      <td>D</td>\n",
       "      <td>male</td>\n",
       "      <td>138</td>\n",
       "      <td>279</td>\n",
       "      <td>417</td>\n",
       "    </tr>\n",
       "    <tr>\n",
       "      <th>8</th>\n",
       "      <td>D</td>\n",
       "      <td>female</td>\n",
       "      <td>131</td>\n",
       "      <td>244</td>\n",
       "      <td>375</td>\n",
       "    </tr>\n",
       "    <tr>\n",
       "      <th>9</th>\n",
       "      <td>E</td>\n",
       "      <td>male</td>\n",
       "      <td>53</td>\n",
       "      <td>138</td>\n",
       "      <td>191</td>\n",
       "    </tr>\n",
       "    <tr>\n",
       "      <th>10</th>\n",
       "      <td>E</td>\n",
       "      <td>female</td>\n",
       "      <td>94</td>\n",
       "      <td>299</td>\n",
       "      <td>393</td>\n",
       "    </tr>\n",
       "    <tr>\n",
       "      <th>11</th>\n",
       "      <td>F</td>\n",
       "      <td>male</td>\n",
       "      <td>22</td>\n",
       "      <td>351</td>\n",
       "      <td>373</td>\n",
       "    </tr>\n",
       "    <tr>\n",
       "      <th>12</th>\n",
       "      <td>F</td>\n",
       "      <td>female</td>\n",
       "      <td>24</td>\n",
       "      <td>317</td>\n",
       "      <td>341</td>\n",
       "    </tr>\n",
       "  </tbody>\n",
       "</table>\n",
       "</div>"
      ],
      "text/plain": [
       "   dept applicant.gender  admit  reject  applications\n",
       "1     A             male    512     313           825\n",
       "2     A           female     89      19           108\n",
       "3     B             male    353     207           560\n",
       "4     B           female     17       8            25\n",
       "5     C             male    120     205           325\n",
       "6     C           female    202     391           593\n",
       "7     D             male    138     279           417\n",
       "8     D           female    131     244           375\n",
       "9     E             male     53     138           191\n",
       "10    E           female     94     299           393\n",
       "11    F             male     22     351           373\n",
       "12    F           female     24     317           341"
      ]
     },
     "metadata": {},
     "output_type": "display_data"
    }
   ],
   "source": [
    "url = 'https://raw.githubusercontent.com/fehiepsi/rethinking-numpyro/master/data/UCBadmit.csv'\n",
    "UCBadmit = pd.read_csv(url, sep=\";\")\n",
    "d = UCBadmit\n",
    "display(d)"
   ]
  },
  {
   "cell_type": "code",
   "execution_count": 4,
   "metadata": {
    "colab": {
     "base_uri": "https://localhost:8080/"
    },
    "id": "WNXUcstfgMb7",
    "outputId": "28361766-63e7-4ecc-81e3-ffab529019be"
   },
   "outputs": [
    {
     "name": "stdout",
     "output_type": "stream",
     "text": [
      "\\begin{tabular}{llrrr}\n",
      "\\toprule\n",
      "dept & applicant.gender &  admit &  reject &  applications \\\\\n",
      "\\midrule\n",
      "   A &             male &    512 &     313 &           825 \\\\\n",
      "   A &           female &     89 &      19 &           108 \\\\\n",
      "   B &             male &    353 &     207 &           560 \\\\\n",
      "   B &           female &     17 &       8 &            25 \\\\\n",
      "   C &             male &    120 &     205 &           325 \\\\\n",
      "   C &           female &    202 &     391 &           593 \\\\\n",
      "   D &             male &    138 &     279 &           417 \\\\\n",
      "   D &           female &    131 &     244 &           375 \\\\\n",
      "   E &             male &     53 &     138 &           191 \\\\\n",
      "   E &           female &     94 &     299 &           393 \\\\\n",
      "   F &             male &     22 &     351 &           373 \\\\\n",
      "   F &           female &     24 &     317 &           341 \\\\\n",
      "\\bottomrule\n",
      "\\end{tabular}\n",
      "\n"
     ]
    },
    {
     "name": "stderr",
     "output_type": "stream",
     "text": [
      "/tmp/ipykernel_2794/3237204968.py:1: FutureWarning: In future versions `DataFrame.to_latex` is expected to utilise the base implementation of `Styler.to_latex` for formatting and rendering. The arguments signature may therefore change. It is recommended instead to use `DataFrame.style.to_latex` which also contains additional functionality.\n",
      "  print(d.to_latex(index=False))\n"
     ]
    }
   ],
   "source": [
    "print(d.to_latex(index=False))"
   ]
  },
  {
   "cell_type": "code",
   "execution_count": 5,
   "metadata": {
    "colab": {
     "base_uri": "https://localhost:8080/"
    },
    "id": "4s0itZ74AVD8",
    "outputId": "221a6709-2672-46f2-aea3-46fffb76ae7a"
   },
   "outputs": [
    {
     "name": "stdout",
     "output_type": "stream",
     "text": [
      "{'admit': array([512,  89, 353,  17, 120, 202, 138, 131,  53,  94,  22,  24]), 'applications': array([825, 108, 560,  25, 325, 593, 417, 375, 191, 393, 373, 341]), 'gid': array([0, 1, 0, 1, 0, 1, 0, 1, 0, 1, 0, 1]), 'dept_id': DeviceArray([0, 0, 1, 1, 2, 2, 3, 3, 4, 4, 5, 5], dtype=int32)}\n"
     ]
    }
   ],
   "source": [
    "\n",
    "dat_list = dict(\n",
    "    admit=d.admit.values,\n",
    "    applications=d.applications.values,\n",
    "    gid=(d[\"applicant.gender\"] != \"male\").astype(int).values,\n",
    ")\n",
    "\n",
    "dat_list[\"dept_id\"] = jnp.repeat(jnp.arange(6), 2)\n",
    "\n",
    "print(dat_list)"
   ]
  },
  {
   "cell_type": "code",
   "execution_count": 6,
   "metadata": {
    "colab": {
     "base_uri": "https://localhost:8080/"
    },
    "id": "awteD7M-Asri",
    "outputId": "59c78248-6254-47f8-9007-baf41c2b802e"
   },
   "outputs": [
    {
     "data": {
      "text/plain": [
       "5    325\n",
       "6    593\n",
       "Name: applications, dtype: int64"
      ]
     },
     "execution_count": 6,
     "metadata": {},
     "output_type": "execute_result"
    }
   ],
   "source": [
    "# extract number of applicaitons for dept 2 (C)\n",
    "d.applications[dat_list[\"dept_id\"].copy() == 2]\n",
    "               "
   ]
  },
  {
   "cell_type": "code",
   "execution_count": 7,
   "metadata": {
    "colab": {
     "base_uri": "https://localhost:8080/"
    },
    "id": "tso5iKGVZ1A3",
    "outputId": "6ffa821c-ca79-4f23-c78e-4c78a7f70ce1"
   },
   "outputs": [
    {
     "data": {
      "text/plain": [
       "918"
      ]
     },
     "execution_count": 7,
     "metadata": {},
     "output_type": "execute_result"
    }
   ],
   "source": [
    "d.applications[dat_list[\"dept_id\"].copy() == 2].sum()"
   ]
  },
  {
   "cell_type": "code",
   "execution_count": 8,
   "metadata": {
    "colab": {
     "base_uri": "https://localhost:8080/",
     "height": 251
    },
    "id": "rjKvZC7w9F_t",
    "outputId": "b94f80b7-1f9e-4fb9-ca93-da19a2982c07"
   },
   "outputs": [
    {
     "data": {
      "text/html": [
       "<div>\n",
       "<style scoped>\n",
       "    .dataframe tbody tr th:only-of-type {\n",
       "        vertical-align: middle;\n",
       "    }\n",
       "\n",
       "    .dataframe tbody tr th {\n",
       "        vertical-align: top;\n",
       "    }\n",
       "\n",
       "    .dataframe thead th {\n",
       "        text-align: right;\n",
       "    }\n",
       "</style>\n",
       "<table border=\"1\" class=\"dataframe\">\n",
       "  <thead>\n",
       "    <tr style=\"text-align: right;\">\n",
       "      <th></th>\n",
       "      <th>A</th>\n",
       "      <th>B</th>\n",
       "      <th>C</th>\n",
       "      <th>D</th>\n",
       "      <th>E</th>\n",
       "      <th>F</th>\n",
       "    </tr>\n",
       "  </thead>\n",
       "  <tbody>\n",
       "    <tr>\n",
       "      <th>male</th>\n",
       "      <td>0.88</td>\n",
       "      <td>0.96</td>\n",
       "      <td>0.35</td>\n",
       "      <td>0.53</td>\n",
       "      <td>0.33</td>\n",
       "      <td>0.52</td>\n",
       "    </tr>\n",
       "    <tr>\n",
       "      <th>female</th>\n",
       "      <td>0.12</td>\n",
       "      <td>0.04</td>\n",
       "      <td>0.65</td>\n",
       "      <td>0.47</td>\n",
       "      <td>0.67</td>\n",
       "      <td>0.48</td>\n",
       "    </tr>\n",
       "  </tbody>\n",
       "</table>\n",
       "</div>"
      ],
      "text/plain": [
       "           A     B     C     D     E     F\n",
       "male    0.88  0.96  0.35  0.53  0.33  0.52\n",
       "female  0.12  0.04  0.65  0.47  0.67  0.48"
      ]
     },
     "metadata": {},
     "output_type": "display_data"
    },
    {
     "name": "stdout",
     "output_type": "stream",
     "text": [
      "\\begin{tabular}{lrrrrrr}\n",
      "\\toprule\n",
      "{} &         A &         B &        C &         D &         E &         F \\\\\n",
      "\\midrule\n",
      "male   &  0.884244 &  0.957265 &  0.35403 &  0.526515 &  0.327055 &  0.522409 \\\\\n",
      "female &  0.115756 &  0.042735 &  0.64597 &  0.473485 &  0.672945 &  0.477591 \\\\\n",
      "\\bottomrule\n",
      "\\end{tabular}\n",
      "\n"
     ]
    },
    {
     "name": "stderr",
     "output_type": "stream",
     "text": [
      "/tmp/ipykernel_2794/2566522753.py:16: FutureWarning: In future versions `DataFrame.to_latex` is expected to utilise the base implementation of `Styler.to_latex` for formatting and rendering. The arguments signature may therefore change. It is recommended instead to use `DataFrame.style.to_latex` which also contains additional functionality.\n",
      "  print(pg.to_latex())\n"
     ]
    }
   ],
   "source": [
    "# application rate per department\n",
    "pg = jnp.stack(\n",
    "    list(\n",
    "        map(\n",
    "            lambda k: jnp.divide(\n",
    "                d.applications[dat_list[\"dept_id\"].copy() == k].values,\n",
    "                d.applications[dat_list[\"dept_id\"].copy() == k].sum(),\n",
    "            ),\n",
    "            range(6),\n",
    "        )\n",
    "    ),\n",
    "    axis=0,\n",
    ").T\n",
    "pg = pd.DataFrame(pg, index=[\"male\", \"female\"], columns=d.dept.unique())\n",
    "display(pg.round(2))\n",
    "print(pg.to_latex())"
   ]
  },
  {
   "cell_type": "code",
   "execution_count": 9,
   "metadata": {
    "colab": {
     "base_uri": "https://localhost:8080/",
     "height": 251
    },
    "id": "OLoWrfLyaZrw",
    "outputId": "4cfd5397-f780-4cf2-e679-4d8f3a3b0eb2"
   },
   "outputs": [
    {
     "data": {
      "text/html": [
       "<div>\n",
       "<style scoped>\n",
       "    .dataframe tbody tr th:only-of-type {\n",
       "        vertical-align: middle;\n",
       "    }\n",
       "\n",
       "    .dataframe tbody tr th {\n",
       "        vertical-align: top;\n",
       "    }\n",
       "\n",
       "    .dataframe thead th {\n",
       "        text-align: right;\n",
       "    }\n",
       "</style>\n",
       "<table border=\"1\" class=\"dataframe\">\n",
       "  <thead>\n",
       "    <tr style=\"text-align: right;\">\n",
       "      <th></th>\n",
       "      <th>A</th>\n",
       "      <th>B</th>\n",
       "      <th>C</th>\n",
       "      <th>D</th>\n",
       "      <th>E</th>\n",
       "      <th>F</th>\n",
       "    </tr>\n",
       "  </thead>\n",
       "  <tbody>\n",
       "    <tr>\n",
       "      <th>male</th>\n",
       "      <td>0.62</td>\n",
       "      <td>0.63</td>\n",
       "      <td>0.37</td>\n",
       "      <td>0.33</td>\n",
       "      <td>0.28</td>\n",
       "      <td>0.06</td>\n",
       "    </tr>\n",
       "    <tr>\n",
       "      <th>female</th>\n",
       "      <td>0.82</td>\n",
       "      <td>0.68</td>\n",
       "      <td>0.34</td>\n",
       "      <td>0.35</td>\n",
       "      <td>0.24</td>\n",
       "      <td>0.07</td>\n",
       "    </tr>\n",
       "  </tbody>\n",
       "</table>\n",
       "</div>"
      ],
      "text/plain": [
       "           A     B     C     D     E     F\n",
       "male    0.62  0.63  0.37  0.33  0.28  0.06\n",
       "female  0.82  0.68  0.34  0.35  0.24  0.07"
      ]
     },
     "metadata": {},
     "output_type": "display_data"
    },
    {
     "name": "stdout",
     "output_type": "stream",
     "text": [
      "\\begin{tabular}{lrrrrrr}\n",
      "\\toprule\n",
      "{} &         A &         B &         C &         D &         E &         F \\\\\n",
      "\\midrule\n",
      "male   &  0.620606 &  0.630357 &  0.369231 &  0.330935 &  0.277487 &  0.058981 \\\\\n",
      "female &  0.824074 &  0.680000 &  0.340641 &  0.349333 &  0.239186 &  0.070381 \\\\\n",
      "\\bottomrule\n",
      "\\end{tabular}\n",
      "\n"
     ]
    },
    {
     "name": "stderr",
     "output_type": "stream",
     "text": [
      "/tmp/ipykernel_2794/2962175981.py:16: FutureWarning: In future versions `DataFrame.to_latex` is expected to utilise the base implementation of `Styler.to_latex` for formatting and rendering. The arguments signature may therefore change. It is recommended instead to use `DataFrame.style.to_latex` which also contains additional functionality.\n",
      "  print(pg.to_latex())\n"
     ]
    }
   ],
   "source": [
    "# admisions rate per department\n",
    "pg = jnp.stack(\n",
    "    list(\n",
    "        map(\n",
    "            lambda k: jnp.divide(\n",
    "                d.admit[dat_list[\"dept_id\"].copy() == k].values,\n",
    "                d.applications[dat_list[\"dept_id\"].copy() == k].values,\n",
    "            ),\n",
    "            range(6),\n",
    "        )\n",
    "    ),\n",
    "    axis=0,\n",
    ").T\n",
    "pg = pd.DataFrame(pg, index=[\"male\", \"female\"], columns=d.dept.unique())\n",
    "display(pg.round(2))\n",
    "print(pg.to_latex())"
   ]
  },
  {
   "cell_type": "markdown",
   "metadata": {
    "id": "lIH__8Bz2Vhf"
   },
   "source": [
    "# Model 1"
   ]
  },
  {
   "cell_type": "code",
   "execution_count": 10,
   "metadata": {
    "colab": {
     "base_uri": "https://localhost:8080/"
    },
    "id": "DCchW_SRb2tJ",
    "outputId": "7dd337c0-b177-46ac-f5a3-649b888c818d"
   },
   "outputs": [
    {
     "name": "stderr",
     "output_type": "stream",
     "text": [
      "/tmp/ipykernel_2794/1955736278.py:14: UserWarning: There are not enough devices to run parallel chains: expected 4 but got 1. Chains will be drawn sequentially. If you are running MCMC in CPU, consider using `numpyro.set_host_device_count(4)` at the beginning of your program. You can double-check how many devices are available in your system using `jax.local_device_count()`.\n",
      "  m11_7 = MCMC(NUTS(model), num_warmup=500, num_samples=500, num_chains=4)\n",
      "sample: 100%|█| 1000/1000 [00:02<00:00, 437.09it/s, 3 steps of size 8.89e-01. ac\n",
      "sample: 100%|█| 1000/1000 [00:01<00:00, 714.94it/s, 3 steps of size 9.23e-01. ac\n",
      "sample: 100%|█| 1000/1000 [00:01<00:00, 686.95it/s, 3 steps of size 9.56e-01. ac\n",
      "sample: 100%|█| 1000/1000 [00:01<00:00, 771.66it/s, 3 steps of size 9.64e-01. ac\n"
     ]
    },
    {
     "name": "stdout",
     "output_type": "stream",
     "text": [
      "\n",
      "                mean       std    median      5.5%     94.5%     n_eff     r_hat\n",
      "      a[0]     -0.22      0.04     -0.22     -0.28     -0.16   1943.31      1.00\n",
      "      a[1]     -0.83      0.05     -0.83     -0.91     -0.75   1891.09      1.00\n",
      "\n",
      "Number of divergences: 0\n"
     ]
    }
   ],
   "source": [
    "dat_list = dict(\n",
    "    admit=d.admit.values,\n",
    "    applications=d.applications.values,\n",
    "    gid=(d[\"applicant.gender\"] != \"male\").astype(int).values,\n",
    ")\n",
    "\n",
    "\n",
    "def model(gid, applications, admit=None):\n",
    "    a = numpyro.sample(\"a\", dist.Normal(0, 1.5).expand([2]))\n",
    "    logit_p = a[gid]\n",
    "    numpyro.sample(\"admit\", dist.Binomial(applications, logits=logit_p), obs=admit)\n",
    "\n",
    "\n",
    "m11_7 = MCMC(NUTS(model), num_warmup=500, num_samples=500, num_chains=4)\n",
    "m11_7.run(random.PRNGKey(0), **dat_list)\n",
    "m11_7.print_summary(0.89)"
   ]
  },
  {
   "cell_type": "code",
   "execution_count": 11,
   "metadata": {
    "colab": {
     "base_uri": "https://localhost:8080/"
    },
    "id": "YrkAgHHH2zvJ",
    "outputId": "4195c61e-908c-4975-b786-f1d7e7fb5467"
   },
   "outputs": [
    {
     "name": "stdout",
     "output_type": "stream",
     "text": [
      "\n",
      "                mean       std    median      5.5%     94.5%     n_eff     r_hat\n",
      "    diff_a      0.61      0.06      0.61      0.51      0.71   2061.57      1.00\n",
      "    diff_p      0.14      0.01      0.14      0.12      0.16   2069.42      1.00\n",
      "\n"
     ]
    }
   ],
   "source": [
    "post = m11_7.get_samples()\n",
    "diff_a = post[\"a\"][:, 0] - post[\"a\"][:, 1]\n",
    "diff_p = expit(post[\"a\"][:, 0]) - expit(post[\"a\"][:, 1])\n",
    "print_summary({\"diff_a\": diff_a, \"diff_p\": diff_p}, 0.89, False)"
   ]
  },
  {
   "cell_type": "markdown",
   "metadata": {
    "id": "aIEJ5zrH288g"
   },
   "source": [
    "# Posterior predictive check"
   ]
  },
  {
   "cell_type": "code",
   "execution_count": 12,
   "metadata": {
    "id": "jY1URpYA4_TJ"
   },
   "outputs": [],
   "source": [
    "def ppc(mcmc_run, model_args):\n",
    "  post = mcmc_run.get_samples()\n",
    "  pred = Predictive(mcmc_run.sampler.model, post)(random.PRNGKey(2), **model_args)\n",
    "  admit_pred = pred[\"admit\"]\n",
    "  admit_rate = admit_pred / d.applications.values\n",
    "  plt.errorbar(\n",
    "      range(1, 13),\n",
    "      jnp.mean(admit_rate, 0),\n",
    "      jnp.std(admit_rate, 0) / 2,\n",
    "      fmt=\"o\",\n",
    "      c=\"k\",\n",
    "      mfc=\"none\",\n",
    "      ms=7,\n",
    "      elinewidth=1,\n",
    "  )\n",
    "  plt.plot(range(1, 13), jnp.percentile(admit_rate, 5.5, 0), \"k+\")\n",
    "  plt.plot(range(1, 13), jnp.percentile(admit_rate, 94.5, 0), \"k+\")\n",
    "  # draw lines connecting points from same dept\n",
    "  for i in range(1, 7):\n",
    "      x = 1 + 2 * (i - 1) # 1,3,5,7,9,11\n",
    "      y1 = d.admit.iloc[x - 1] / d.applications.iloc[x - 1] # male\n",
    "      y2 = d.admit.iloc[x] / d.applications.iloc[x] # female\n",
    "      plt.plot((x, x + 1), (y1, y2), \"bo-\")\n",
    "      plt.annotate(\n",
    "          d.dept.iloc[x], (x + 0.5, (y1 + y2) / 2 + 0.05), ha=\"center\", color=\"royalblue\"\n",
    "      )\n",
    "  plt.gca().set(ylim=(0, 1), xticks=range(1, 13), ylabel=\"admit\", xlabel=\"case\")"
   ]
  },
  {
   "cell_type": "code",
   "execution_count": 13,
   "metadata": {
    "colab": {
     "base_uri": "https://localhost:8080/",
     "height": 282
    },
    "id": "FyrzH_Yi30N2",
    "outputId": "d2180a68-4b0b-4a22-e300-9f04427b8e6c"
   },
   "outputs": [
    {
     "data": {
      "image/png": "[encoded data removed]",
      "text/plain": [
       "<Figure size 432x288 with 1 Axes>"
      ]
     },
     "metadata": {
      "needs_background": "light"
     },
     "output_type": "display_data"
    }
   ],
   "source": [
    "ppc(m11_7, {'gid': dat_list[\"gid\"], 'applications': dat_list[\"applications\"]})\n",
    "plt.savefig('admissions_ppc.pdf', dpi=300)\n",
    "plt.show()"
   ]
  },
  {
   "cell_type": "markdown",
   "metadata": {
    "id": "KlJGu63T4Jew"
   },
   "source": [
    "# Model 2 (departmental-specific offset)"
   ]
  },
  {
   "cell_type": "code",
   "execution_count": 14,
   "metadata": {
    "colab": {
     "base_uri": "https://localhost:8080/"
    },
    "id": "EgepyNLf4E9H",
    "outputId": "bbd5aef4-990c-42c9-b1a1-0d14de4e1b8e"
   },
   "outputs": [
    {
     "name": "stderr",
     "output_type": "stream",
     "text": [
      "/tmp/ipykernel_2794/3303486546.py:10: UserWarning: There are not enough devices to run parallel chains: expected 4 but got 1. Chains will be drawn sequentially. If you are running MCMC in CPU, consider using `numpyro.set_host_device_count(4)` at the beginning of your program. You can double-check how many devices are available in your system using `jax.local_device_count()`.\n",
      "  m11_8 = MCMC(NUTS(model), num_warmup=2000, num_samples=2000, num_chains=4)\n",
      "sample: 100%|█| 4000/4000 [00:26<00:00, 151.57it/s, 27 steps of size 7.07e-02. a\n",
      "sample: 100%|█| 4000/4000 [00:24<00:00, 163.18it/s, 15 steps of size 7.01e-02. a\n",
      "sample: 100%|█| 4000/4000 [00:25<00:00, 156.07it/s, 7 steps of size 5.44e-02. ac\n",
      "sample: 100%|█| 4000/4000 [00:26<00:00, 152.96it/s, 7 steps of size 5.98e-02. ac\n"
     ]
    },
    {
     "name": "stdout",
     "output_type": "stream",
     "text": [
      "\n",
      "                mean       std    median      5.5%     94.5%     n_eff     r_hat\n",
      "      a[0]     -0.52      0.53     -0.52     -1.39      0.28    677.42      1.00\n",
      "      a[1]     -0.43      0.53     -0.42     -1.30      0.38    675.07      1.00\n",
      "  delta[0]      1.11      0.53      1.11      0.31      2.01    685.43      1.00\n",
      "  delta[1]      1.06      0.53      1.07      0.27      1.96    688.30      1.00\n",
      "  delta[2]     -0.16      0.53     -0.15     -0.93      0.75    678.99      1.00\n",
      "  delta[3]     -0.19      0.53     -0.18     -0.99      0.70    683.77      1.00\n",
      "  delta[4]     -0.63      0.53     -0.63     -1.45      0.24    691.65      1.00\n",
      "  delta[5]     -2.19      0.54     -2.19     -3.06     -1.32    704.73      1.00\n",
      "\n",
      "Number of divergences: 0\n"
     ]
    }
   ],
   "source": [
    "\n",
    "dat_list[\"dept_id\"] = jnp.repeat(jnp.arange(6), 2)\n",
    "\n",
    "def model(gid, dept_id, applications, admit=None):\n",
    "    a = numpyro.sample(\"a\", dist.Normal(0, 1.5).expand([2]))\n",
    "    delta = numpyro.sample(\"delta\", dist.Normal(0, 1.5).expand([6]))\n",
    "    logit_p = a[gid] + delta[dept_id]\n",
    "    numpyro.sample(\"admit\", dist.Binomial(applications, logits=logit_p), obs=admit)\n",
    "\n",
    "\n",
    "m11_8 = MCMC(NUTS(model), num_warmup=2000, num_samples=2000, num_chains=4)\n",
    "m11_8.run(random.PRNGKey(0), **dat_list)\n",
    "m11_8.print_summary(0.89)"
   ]
  },
  {
   "cell_type": "code",
   "execution_count": 15,
   "metadata": {
    "colab": {
     "base_uri": "https://localhost:8080/"
    },
    "id": "8CYrU2uN4nli",
    "outputId": "57cb1fd2-3db5-4cb1-b7cc-b7d1e6069597"
   },
   "outputs": [
    {
     "name": "stdout",
     "output_type": "stream",
     "text": [
      "\n",
      "                mean       std    median      5.5%     94.5%     n_eff     r_hat\n",
      "    diff_a     -0.10      0.08     -0.10     -0.22      0.03   9246.76      1.00\n",
      "    diff_p     -0.02      0.02     -0.02     -0.05      0.01   7408.88      1.00\n",
      "\n"
     ]
    }
   ],
   "source": [
    "post = m11_8.get_samples()\n",
    "diff_a = post[\"a\"][:, 0] - post[\"a\"][:, 1]\n",
    "diff_p = expit(post[\"a\"][:, 0]) - expit(post[\"a\"][:, 1])\n",
    "print_summary({\"diff_a\": diff_a, \"diff_p\": diff_p}, 0.89, False)"
   ]
  },
  {
   "cell_type": "code",
   "execution_count": 16,
   "metadata": {
    "colab": {
     "base_uri": "https://localhost:8080/",
     "height": 282
    },
    "id": "BFXYpYYh4gZL",
    "outputId": "12e334c8-6689-48ad-ef94-3c3fbab577db"
   },
   "outputs": [
    {
     "data": {
      "image/png": "[encoded data removed]",
      "text/plain": [
       "<Figure size 432x288 with 1 Axes>"
      ]
     },
     "metadata": {
      "needs_background": "light"
     },
     "output_type": "display_data"
    }
   ],
   "source": [
    "data_dict = {'gid': dat_list[\"gid\"],\n",
    "             'dept_id': dat_list[\"dept_id\"],\n",
    "             'applications': dat_list[\"applications\"]}\n",
    "ppc(m11_8, data_dict)\n",
    "#ppc(m11_8, dat_list) # must exclude 'admit' for predictive distribution\n",
    "plt.savefig('admissions_ppc_per_dept.pdf', dpi=300)\n",
    "plt.show()"
   ]
  },
  {
   "cell_type": "markdown",
   "metadata": {
    "id": "fTyU9j5gWpG5"
   },
   "source": [
    "# Poisson regression\n",
    "\n",
    "We now show we can emulate binomial regresison using 2 poisson regressions,\n",
    "following sec 11.3.3 of rethinking. We use a simplified model that just predicts outcomes, and has no features (just an offset term)."
   ]
  },
  {
   "cell_type": "code",
   "execution_count": 17,
   "metadata": {
    "colab": {
     "base_uri": "https://localhost:8080/"
    },
    "id": "K6zWmx1LXdrj",
    "outputId": "0740c417-7657-4329-b55d-a2e15bba106a"
   },
   "outputs": [
    {
     "name": "stderr",
     "output_type": "stream",
     "text": [
      "/tmp/ipykernel_2794/3943756810.py:20: UserWarning: There are not enough devices to run parallel chains: expected 4 but got 1. Chains will be drawn sequentially. If you are running MCMC in CPU, consider using `numpyro.set_host_device_count(4)` at the beginning of your program. You can double-check how many devices are available in your system using `jax.local_device_count()`.\n",
      "  m_binom = MCMC(NUTS(model), num_warmup=500, num_samples=500, num_chains=4)\n",
      "sample: 100%|█| 1000/1000 [00:01<00:00, 598.09it/s, 3 steps of size 1.18e+00. ac\n",
      "sample: 100%|█| 1000/1000 [00:01<00:00, 982.21it/s, 3 steps of size 1.07e+00. ac\n",
      "sample: 100%|█| 1000/1000 [00:01<00:00, 950.60it/s, 3 steps of size 9.71e-01. ac\n",
      "sample: 100%|█| 1000/1000 [00:01<00:00, 989.53it/s, 1 steps of size 1.01e+00. ac\n"
     ]
    },
    {
     "name": "stdout",
     "output_type": "stream",
     "text": [
      "\n",
      "                mean       std    median      2.5%     97.5%     n_eff     r_hat\n",
      "         a     -0.46      0.03     -0.46     -0.52     -0.39    612.87      1.01\n",
      "\n",
      "Number of divergences: 0\n"
     ]
    }
   ],
   "source": [
    "# binomial model of overall admission probability\n",
    "def model(applications, admit):\n",
    "    a = numpyro.sample(\"a\", dist.Normal(0, 1.5))\n",
    "    logit_p = a\n",
    "    numpyro.sample(\"admit\", dist.Binomial(applications, logits=logit_p), obs=admit)\n",
    "\n",
    "'''\n",
    "m_binom = AutoLaplaceApproximation(model)\n",
    "svi = SVI(\n",
    "    model,\n",
    "    m_binom,\n",
    "    optim.Adam(1),\n",
    "    Trace_ELBO(),\n",
    "    applications=d.applications.values,\n",
    "    admit=d.admit.values,\n",
    ")\n",
    "p_binom, losses = svi.run(random.PRNGKey(0), 1000)\n",
    "'''\n",
    "\n",
    "m_binom = MCMC(NUTS(model), num_warmup=500, num_samples=500, num_chains=4)\n",
    "m_binom.run(random.PRNGKey(0), d.applications.values, d.admit.values)\n",
    "m_binom.print_summary(0.95)\n",
    "\n"
   ]
  },
  {
   "cell_type": "code",
   "execution_count": 18,
   "metadata": {
    "colab": {
     "base_uri": "https://localhost:8080/"
    },
    "id": "pKRQopvFYeSq",
    "outputId": "1ea101a6-a230-4676-84bd-0fdee708433c"
   },
   "outputs": [
    {
     "name": "stdout",
     "output_type": "stream",
     "text": [
      "0.38798442\n"
     ]
    }
   ],
   "source": [
    "logit = jnp.mean(m_binom.get_samples()[\"a\"])\n",
    "print(expit(logit))"
   ]
  },
  {
   "cell_type": "code",
   "execution_count": 19,
   "metadata": {
    "colab": {
     "base_uri": "https://localhost:8080/"
    },
    "id": "oYMtHurQYArE",
    "outputId": "9ff3ba00-d8e0-4c2b-ec87-937edc01c4a5"
   },
   "outputs": [
    {
     "name": "stderr",
     "output_type": "stream",
     "text": [
      "/tmp/ipykernel_2794/200871527.py:9: UserWarning: There are not enough devices to run parallel chains: expected 3 but got 1. Chains will be drawn sequentially. If you are running MCMC in CPU, consider using `numpyro.set_host_device_count(3)` at the beginning of your program. You can double-check how many devices are available in your system using `jax.local_device_count()`.\n",
      "  m_pois = MCMC(NUTS(model), num_warmup=1000, num_samples=1000, num_chains=3)\n",
      "sample: 100%|█| 2000/2000 [00:02<00:00, 673.60it/s, 3 steps of size 9.64e-01. ac\n",
      "sample: 100%|█| 2000/2000 [00:02<00:00, 792.01it/s, 3 steps of size 8.70e-01. ac\n",
      "sample: 100%|█| 2000/2000 [00:02<00:00, 759.73it/s, 3 steps of size 7.52e-01. ac\n"
     ]
    },
    {
     "name": "stdout",
     "output_type": "stream",
     "text": [
      "\n",
      "                mean       std    median      2.5%     97.5%     n_eff     r_hat\n",
      "      a[0]      4.98      0.02      4.98      4.94      5.03   2677.13      1.00\n",
      "      a[1]      5.44      0.02      5.44      5.40      5.48   2909.32      1.00\n",
      "\n",
      "Number of divergences: 0\n"
     ]
    }
   ],
   "source": [
    "def model(rej, admit):\n",
    "    a1, a2 = numpyro.sample(\"a\", dist.Normal(0, 1.5).expand([2]))\n",
    "    lambda1 = jnp.exp(a1)\n",
    "    lambda2 = jnp.exp(a2)\n",
    "    numpyro.sample(\"rej\", dist.Poisson(lambda2), obs=rej)\n",
    "    numpyro.sample(\"admit\", dist.Poisson(lambda1), obs=admit)\n",
    "\n",
    "\n",
    "m_pois = MCMC(NUTS(model), num_warmup=1000, num_samples=1000, num_chains=3)\n",
    "m_pois.run(random.PRNGKey(0), d.reject.values, d.admit.values)\n",
    "m_pois.print_summary(0.95)\n",
    "                     \n"
   ]
  },
  {
   "cell_type": "code",
   "execution_count": 20,
   "metadata": {
    "colab": {
     "base_uri": "https://localhost:8080/"
    },
    "id": "Pwr25iX4ZGZD",
    "outputId": "59e577c0-4ede-4ce4-b022-45124c9aadd0"
   },
   "outputs": [
    {
     "name": "stdout",
     "output_type": "stream",
     "text": [
      "[DeviceArray(146.066, dtype=float32), DeviceArray(230.671, dtype=float32)]\n",
      "0.3877134\n"
     ]
    }
   ],
   "source": [
    "params = jnp.mean(m_pois.get_samples()[\"a\"], 0)\n",
    "a1 = params[0]\n",
    "a2 = params[1]\n",
    "lam1 = jnp.exp(a1)\n",
    "lam2 = jnp.exp(a2)\n",
    "print([lam1, lam2])\n",
    "print(lam1 / (lam1 + lam2))"
   ]
  },
  {
   "cell_type": "markdown",
   "metadata": {
    "id": "k7RykjuvbG5F"
   },
   "source": [
    "# Beta-binomial regression\n",
    "\n",
    "Sec 12.1.1 of rethinking.\n",
    "Code from snippet 12.2 of [Du Phan's site](https://fehiepsi.github.io/rethinking-numpyro/12-monsters-and-mixtures.html)\n"
   ]
  },
  {
   "cell_type": "code",
   "execution_count": 21,
   "metadata": {
    "colab": {
     "base_uri": "https://localhost:8080/"
    },
    "id": "rXLcgSYibLs8",
    "outputId": "a96b1c01-1b6f-426e-dfe6-ba18c7f22d06"
   },
   "outputs": [
    {
     "name": "stderr",
     "output_type": "stream",
     "text": [
      "/tmp/ipykernel_2794/2111172605.py:14: UserWarning: There are not enough devices to run parallel chains: expected 4 but got 1. Chains will be drawn sequentially. If you are running MCMC in CPU, consider using `numpyro.set_host_device_count(4)` at the beginning of your program. You can double-check how many devices are available in your system using `jax.local_device_count()`.\n",
      "  m12_1 = MCMC(NUTS(model), num_warmup=500, num_samples=500, num_chains=4)\n",
      "sample: 100%|█| 1000/1000 [00:03<00:00, 293.83it/s, 3 steps of size 7.13e-01. ac\n",
      "sample: 100%|█| 1000/1000 [00:02<00:00, 438.15it/s, 7 steps of size 5.09e-01. ac\n",
      "sample: 100%|█| 1000/1000 [00:02<00:00, 412.88it/s, 7 steps of size 6.42e-01. ac\n",
      "sample: 100%|█| 1000/1000 [00:02<00:00, 425.16it/s, 7 steps of size 6.02e-01. ac\n"
     ]
    }
   ],
   "source": [
    "d = UCBadmit\n",
    "d[\"gid\"] = (d[\"applicant.gender\"] != \"male\").astype(int)\n",
    "dat = dict(A=d.admit.values, N=d.applications.values, gid=d.gid.values)\n",
    "\n",
    "\n",
    "def model(gid, N, A=None):\n",
    "    a = numpyro.sample(\"a\", dist.Normal(0, 1.5).expand([2]))\n",
    "    phi = numpyro.sample(\"phi\", dist.Exponential(1))\n",
    "    theta = numpyro.deterministic(\"theta\", phi + 2) # shape\n",
    "    pbar = expit(a[gid]) # mean\n",
    "    numpyro.sample(\"A\", dist.BetaBinomial(pbar * theta, (1 - pbar) * theta, N), obs=A)\n",
    "\n",
    "\n",
    "m12_1 = MCMC(NUTS(model), num_warmup=500, num_samples=500, num_chains=4)\n",
    "m12_1.run(random.PRNGKey(0), **dat)"
   ]
  },
  {
   "cell_type": "code",
   "execution_count": 22,
   "metadata": {
    "colab": {
     "base_uri": "https://localhost:8080/"
    },
    "id": "DroRyUENbvyD",
    "outputId": "eedcc585-f2a4-4d01-d42c-d920476b0c51"
   },
   "outputs": [
    {
     "name": "stdout",
     "output_type": "stream",
     "text": [
      "\n",
      "                mean       std    median      5.5%     94.5%     n_eff     r_hat\n",
      "      a[0]     -0.44      0.42     -0.44     -1.08      0.25   1495.75      1.00\n",
      "      a[1]     -0.34      0.40     -0.34     -1.01      0.23   1536.59      1.00\n",
      "        da     -0.10      0.58     -0.09     -0.96      0.79   1603.16      1.00\n",
      "       phi      1.01      0.80      0.84      0.00      2.00   1467.05      1.00\n",
      "     theta      3.01      0.80      2.84      2.00      4.00   1467.05      1.00\n",
      "\n"
     ]
    }
   ],
   "source": [
    "post = m12_1.get_samples()\n",
    "post[\"theta\"] = Predictive(m12_1.sampler.model, post)(random.PRNGKey(1), **dat)[\"theta\"]\n",
    "post[\"da\"] = post[\"a\"][:, 0] - post[\"a\"][:, 1]\n",
    "print_summary(post, 0.89, False)"
   ]
  },
  {
   "cell_type": "code",
   "execution_count": 23,
   "metadata": {
    "colab": {
     "base_uri": "https://localhost:8080/"
    },
    "id": "S9VxiaDZyecO",
    "outputId": "3de32392-9a74-46d8-e248-f687986adab4"
   },
   "outputs": [
    {
     "data": {
      "text/plain": [
       "{'a': DeviceArray([[-0.066, -0.61 ],\n",
       "              [-0.713, -0.142],\n",
       "              [-0.078, -0.354],\n",
       "              ...,\n",
       "              [-0.561, -0.706],\n",
       "              [-1.334, -0.83 ],\n",
       "              [-1.275, -0.342]], dtype=float32),\n",
       " 'phi': DeviceArray([0.406, 1.075, 1.876, ..., 0.142, 0.13 , 0.096], dtype=float32),\n",
       " 'theta': DeviceArray([2.406, 3.075, 3.876, ..., 2.142, 2.13 , 2.096], dtype=float32),\n",
       " 'da': DeviceArray([ 0.544, -0.571,  0.276, ...,  0.145, -0.505, -0.934], dtype=float32)}"
      ]
     },
     "execution_count": 23,
     "metadata": {},
     "output_type": "execute_result"
    }
   ],
   "source": [
    "post"
   ]
  },
  {
   "cell_type": "code",
   "execution_count": 24,
   "metadata": {
    "colab": {
     "base_uri": "https://localhost:8080/",
     "height": 295
    },
    "id": "GIwMyYUob2At",
    "outputId": "8bdc1adc-c386-4e95-b454-b954c8b149c9"
   },
   "outputs": [
    {
     "data": {
      "image/png": "[encoded data removed]",
      "text/plain": [
       "<Figure size 432x288 with 1 Axes>"
      ]
     },
     "metadata": {
      "needs_background": "light"
     },
     "output_type": "display_data"
    }
   ],
   "source": [
    "gid = 1\n",
    "# draw posterior mean beta distribution\n",
    "x = jnp.linspace(0, 1, 101)\n",
    "pbar = jnp.mean(expit(post[\"a\"][:, gid]))\n",
    "theta = jnp.mean(post[\"theta\"])\n",
    "plt.plot(x, jnp.exp(dist.Beta(pbar * theta, (1 - pbar) * theta).log_prob(x)))\n",
    "plt.gca().set(ylabel=\"Density\", xlabel=\"probability admit\", ylim=(0, 3))\n",
    "\n",
    "# draw 50 beta distributions sampled from posterior\n",
    "for i in range(50):\n",
    "    p = expit(post[\"a\"][i, gid])\n",
    "    theta = post[\"theta\"][i]\n",
    "    plt.plot(\n",
    "        x, jnp.exp(dist.Beta(p * theta, (1 - p) * theta).log_prob(x)), \"k\", alpha=0.2\n",
    "    )\n",
    "plt.title(\"distribution of female admission rates\")\n",
    "plt.savefig('admissions_betabinom_female_rate.pdf')\n",
    "plt.show()"
   ]
  },
  {
   "cell_type": "code",
   "execution_count": 25,
   "metadata": {
    "colab": {
     "base_uri": "https://localhost:8080/",
     "height": 295
    },
    "id": "P0m8BionvsXR",
    "outputId": "0202f6b7-cd3a-4813-e6b6-3d780fb95778"
   },
   "outputs": [
    {
     "data": {
      "image/png": "[encoded data removed]",
      "text/plain": [
       "<Figure size 432x288 with 1 Axes>"
      ]
     },
     "metadata": {
      "needs_background": "light"
     },
     "output_type": "display_data"
    }
   ],
   "source": [
    "fig, ax = plt.subplots()\n",
    "labels = ['male', 'female']\n",
    "colors = ['b', 'r']\n",
    "for gid in [0,1]:\n",
    "  # draw posterior mean beta distribution\n",
    "  x = jnp.linspace(0, 1, 101)\n",
    "  pbar = jnp.mean(expit(post[\"a\"][:, gid]))\n",
    "  theta = jnp.mean(post[\"theta\"])\n",
    "  y = jnp.exp(dist.Beta(pbar * theta, (1 - pbar) * theta).log_prob(x))\n",
    "  ax.plot(x, y, label=labels[gid], color=colors[gid])\n",
    "  ax.set_ylabel(\"Density\")\n",
    "  ax.set_xlabel(\"probability admit\")\n",
    "  ax.set_ylim(0, 3)\n",
    "\n",
    "  # draw some beta distributions sampled from posterior\n",
    "  for i in range(10):\n",
    "      p = expit(post[\"a\"][i, gid])\n",
    "      theta = post[\"theta\"][i]\n",
    "      y =jnp.exp(dist.Beta(p * theta, (1 - p) * theta).log_prob(x))\n",
    "      plt.plot(x, y, colors[gid], alpha=0.2)\n",
    "\n",
    "plt.title(\"distribution of admission rates\")\n",
    "plt.legend()\n",
    "plt.savefig('admissions_betabinom_rates.pdf')\n",
    "plt.show()"
   ]
  },
  {
   "cell_type": "code",
   "execution_count": 26,
   "metadata": {
    "colab": {
     "base_uri": "https://localhost:8080/",
     "height": 265
    },
    "id": "LqPtmN_IcLY4",
    "outputId": "2519a209-84d0-477d-a13f-49ac03214931"
   },
   "outputs": [
    {
     "data": {
      "image/png": "[encoded data removed]",
      "text/plain": [
       "<Figure size 432x288 with 1 Axes>"
      ]
     },
     "metadata": {
      "needs_background": "light"
     },
     "output_type": "display_data"
    }
   ],
   "source": [
    "post = m12_1.get_samples()\n",
    "admit_pred = Predictive(m12_1.sampler.model, post)(\n",
    "    random.PRNGKey(1), gid=dat[\"gid\"], N=dat[\"N\"]\n",
    ")[\"A\"]\n",
    "admit_rate = admit_pred / dat[\"N\"]\n",
    "plt.scatter(range(1, 13), dat[\"A\"] / dat[\"N\"])\n",
    "plt.errorbar(\n",
    "    range(1, 13),\n",
    "    jnp.mean(admit_rate, 0),\n",
    "    jnp.std(admit_rate, 0) / 2,\n",
    "    fmt=\"o\",\n",
    "    c=\"k\",\n",
    "    mfc=\"none\",\n",
    "    ms=7,\n",
    "    elinewidth=1,\n",
    ")\n",
    "plt.plot(range(1, 13), jnp.percentile(admit_rate, 5.5, 0), \"k+\")\n",
    "plt.plot(range(1, 13), jnp.percentile(admit_rate, 94.5, 0), \"k+\")\n",
    "plt.savefig('admissions_betabinom_post_pred.pdf')\n",
    "plt.show()"
   ]
  },
  {
   "cell_type": "markdown",
   "metadata": {
    "id": "WASI8v5XHUhi"
   },
   "source": [
    "# Mixed effects model with joint prior\n",
    "\n",
    "This code is from https://numpyro.readthedocs.io/en/latest/examples/ucbadmit.html."
   ]
  },
  {
   "cell_type": "code",
   "execution_count": 27,
   "metadata": {
    "id": "peOoI8OLHZFs"
   },
   "outputs": [
    {
     "ename": "PermissionError",
     "evalue": "[Errno 13] Permission denied: '/usr/local/lib/python3.9/dist-packages/numpyro/examples/.data'",
     "output_type": "error",
     "traceback": [
      "\u001b[0;31m---------------------------------------------------------------------------\u001b[0m",
      "\u001b[0;31mPermissionError\u001b[0m                           Traceback (most recent call last)",
      "Input \u001b[0;32mIn [27]\u001b[0m, in \u001b[0;36m<cell line: 1>\u001b[0;34m()\u001b[0m\n\u001b[0;32m----> 1\u001b[0m \u001b[38;5;28;01mfrom\u001b[39;00m \u001b[38;5;21;01mnumpyro\u001b[39;00m\u001b[38;5;21;01m.\u001b[39;00m\u001b[38;5;21;01mexamples\u001b[39;00m\u001b[38;5;21;01m.\u001b[39;00m\u001b[38;5;21;01mdatasets\u001b[39;00m \u001b[38;5;28;01mimport\u001b[39;00m UCBADMIT, load_dataset\n\u001b[1;32m      5\u001b[0m \u001b[38;5;28;01mdef\u001b[39;00m \u001b[38;5;21mglmm\u001b[39m(dept, male, applications, admit\u001b[38;5;241m=\u001b[39m\u001b[38;5;28;01mNone\u001b[39;00m):\n\u001b[1;32m      6\u001b[0m     v_mu \u001b[38;5;241m=\u001b[39m numpyro\u001b[38;5;241m.\u001b[39msample(\u001b[38;5;124m\"\u001b[39m\u001b[38;5;124mv_mu\u001b[39m\u001b[38;5;124m\"\u001b[39m, dist\u001b[38;5;241m.\u001b[39mNormal(\u001b[38;5;241m0\u001b[39m, jnp\u001b[38;5;241m.\u001b[39marray([\u001b[38;5;241m4.0\u001b[39m, \u001b[38;5;241m1.0\u001b[39m])))\n",
      "File \u001b[0;32m/usr/local/lib/python3.9/dist-packages/numpyro/examples/datasets.py:26\u001b[0m, in \u001b[0;36m<module>\u001b[0;34m\u001b[0m\n\u001b[1;32m     24\u001b[0m \u001b[38;5;28;01melse\u001b[39;00m:\n\u001b[1;32m     25\u001b[0m     DATA_DIR \u001b[38;5;241m=\u001b[39m os\u001b[38;5;241m.\u001b[39mpath\u001b[38;5;241m.\u001b[39mabspath(os\u001b[38;5;241m.\u001b[39mpath\u001b[38;5;241m.\u001b[39mjoin(os\u001b[38;5;241m.\u001b[39mpath\u001b[38;5;241m.\u001b[39mdirname(\u001b[38;5;18m__file__\u001b[39m), \u001b[38;5;124m\"\u001b[39m\u001b[38;5;124m.data\u001b[39m\u001b[38;5;124m\"\u001b[39m))\n\u001b[0;32m---> 26\u001b[0m \u001b[43mos\u001b[49m\u001b[38;5;241;43m.\u001b[39;49m\u001b[43mmakedirs\u001b[49m\u001b[43m(\u001b[49m\u001b[43mDATA_DIR\u001b[49m\u001b[43m,\u001b[49m\u001b[43m \u001b[49m\u001b[43mexist_ok\u001b[49m\u001b[38;5;241;43m=\u001b[39;49m\u001b[38;5;28;43;01mTrue\u001b[39;49;00m\u001b[43m)\u001b[49m\n\u001b[1;32m     28\u001b[0m dset \u001b[38;5;241m=\u001b[39m namedtuple(\u001b[38;5;124m\"\u001b[39m\u001b[38;5;124mdset\u001b[39m\u001b[38;5;124m\"\u001b[39m, [\u001b[38;5;124m\"\u001b[39m\u001b[38;5;124mname\u001b[39m\u001b[38;5;124m\"\u001b[39m, \u001b[38;5;124m\"\u001b[39m\u001b[38;5;124murls\u001b[39m\u001b[38;5;124m\"\u001b[39m])\n\u001b[1;32m     30\u001b[0m BASEBALL \u001b[38;5;241m=\u001b[39m dset(\n\u001b[1;32m     31\u001b[0m     \u001b[38;5;124m\"\u001b[39m\u001b[38;5;124mbaseball\u001b[39m\u001b[38;5;124m\"\u001b[39m, [\u001b[38;5;124m\"\u001b[39m\u001b[38;5;124mhttps://d2hg8soec8ck9v.cloudfront.net/datasets/EfronMorrisBB.txt\u001b[39m\u001b[38;5;124m\"\u001b[39m]\n\u001b[1;32m     32\u001b[0m )\n",
      "File \u001b[0;32m/usr/lib/python3.9/os.py:225\u001b[0m, in \u001b[0;36mmakedirs\u001b[0;34m(name, mode, exist_ok)\u001b[0m\n\u001b[1;32m    223\u001b[0m         \u001b[38;5;28;01mreturn\u001b[39;00m\n\u001b[1;32m    224\u001b[0m \u001b[38;5;28;01mtry\u001b[39;00m:\n\u001b[0;32m--> 225\u001b[0m     \u001b[43mmkdir\u001b[49m\u001b[43m(\u001b[49m\u001b[43mname\u001b[49m\u001b[43m,\u001b[49m\u001b[43m \u001b[49m\u001b[43mmode\u001b[49m\u001b[43m)\u001b[49m\n\u001b[1;32m    226\u001b[0m \u001b[38;5;28;01mexcept\u001b[39;00m \u001b[38;5;167;01mOSError\u001b[39;00m:\n\u001b[1;32m    227\u001b[0m     \u001b[38;5;66;03m# Cannot rely on checking for EEXIST, since the operating system\u001b[39;00m\n\u001b[1;32m    228\u001b[0m     \u001b[38;5;66;03m# could give priority to other errors like EACCES or EROFS\u001b[39;00m\n\u001b[1;32m    229\u001b[0m     \u001b[38;5;28;01mif\u001b[39;00m \u001b[38;5;129;01mnot\u001b[39;00m exist_ok \u001b[38;5;129;01mor\u001b[39;00m \u001b[38;5;129;01mnot\u001b[39;00m path\u001b[38;5;241m.\u001b[39misdir(name):\n",
      "\u001b[0;31mPermissionError\u001b[0m: [Errno 13] Permission denied: '/usr/local/lib/python3.9/dist-packages/numpyro/examples/.data'"
     ]
    }
   ],
   "source": [
    "from numpyro.examples.datasets import UCBADMIT, load_dataset\n",
    "\n",
    "\n",
    "\n",
    "def glmm(dept, male, applications, admit=None):\n",
    "    v_mu = numpyro.sample(\"v_mu\", dist.Normal(0, jnp.array([4.0, 1.0])))\n",
    "\n",
    "    sigma = numpyro.sample(\"sigma\", dist.HalfNormal(jnp.ones(2)))\n",
    "    L_Rho = numpyro.sample(\"L_Rho\", dist.LKJCholesky(2, concentration=2))\n",
    "    scale_tril = sigma[..., jnp.newaxis] * L_Rho\n",
    "    # non-centered parameterization\n",
    "    num_dept = len(np.unique(dept))\n",
    "    z = numpyro.sample(\"z\", dist.Normal(jnp.zeros((num_dept, 2)), 1))\n",
    "    v = jnp.dot(scale_tril, z.T).T\n",
    "\n",
    "    logits = v_mu[0] + v[dept, 0] + (v_mu[1] + v[dept, 1]) * male\n",
    "    if admit is None:\n",
    "        # we use a Delta site to record probs for predictive distribution\n",
    "        probs = expit(logits)\n",
    "        numpyro.sample(\"probs\", dist.Delta(probs), obs=probs)\n",
    "    numpyro.sample(\"admit\", dist.Binomial(applications, logits=logits), obs=admit)\n",
    "\n",
    "\n",
    "def run_inference(dept, male, applications, admit, rng_key):\n",
    "    kernel = NUTS(glmm)\n",
    "    mcmc = MCMC(kernel, num_warmup=500, num_samples=1000, num_chains=1)\n",
    "    mcmc.run(rng_key, dept, male, applications, admit)\n",
    "    return mcmc.get_samples()\n",
    "\n",
    "\n",
    "def print_results(header, preds, dept, male, probs):\n",
    "    columns = [\"Dept\", \"Male\", \"ActualProb\", \"Pred(p25)\", \"Pred(p50)\", \"Pred(p75)\"]\n",
    "    header_format = \"{:>10} {:>10} {:>10} {:>10} {:>10} {:>10}\"\n",
    "    row_format = \"{:>10.0f} {:>10.0f} {:>10.2f} {:>10.2f} {:>10.2f} {:>10.2f}\"\n",
    "    quantiles = jnp.quantile(preds, jnp.array([0.25, 0.5, 0.75]), axis=0)\n",
    "    print(\"\\n\", header, \"\\n\")\n",
    "    print(header_format.format(*columns))\n",
    "    for i in range(len(dept)):\n",
    "        print(row_format.format(dept[i], male[i], probs[i], *quantiles[:, i]), \"\\n\")\n"
   ]
  },
  {
   "cell_type": "code",
   "execution_count": null,
   "metadata": {
    "colab": {
     "base_uri": "https://localhost:8080/",
     "height": 961
    },
    "id": "tGUqrgCgHlPt",
    "outputId": "8f9e1a80-05e8-4ef3-9b0c-5bf23cf3ebb6"
   },
   "outputs": [],
   "source": [
    "\n",
    "_, fetch_train = load_dataset(UCBADMIT, split=\"train\", shuffle=False)\n",
    "dept, male, applications, admit = fetch_train()\n",
    "rng_key, rng_key_predict = random.split(random.PRNGKey(1))\n",
    "zs = run_inference(dept, male, applications, admit, rng_key)\n",
    "pred_probs = Predictive(glmm, zs)(rng_key_predict, dept, male, applications)[\n",
    "    \"probs\"\n",
    "]\n",
    "header = \"=\" * 30 + \"glmm - TRAIN\" + \"=\" * 30\n",
    "print_results(header, pred_probs, dept, male, admit / applications)\n",
    "\n",
    "# make plots\n",
    "fig, ax = plt.subplots(figsize=(8, 6), constrained_layout=True)\n",
    "\n",
    "ax.plot(range(1, 13), admit / applications, \"o\", ms=7, label=\"actual rate\")\n",
    "ax.errorbar(\n",
    "    range(1, 13),\n",
    "    jnp.mean(pred_probs, 0),\n",
    "    jnp.std(pred_probs, 0),\n",
    "    fmt=\"o\",\n",
    "    c=\"k\",\n",
    "    mfc=\"none\",\n",
    "    ms=7,\n",
    "    elinewidth=1,\n",
    "    label=r\"mean $\\pm$ std\",\n",
    ")\n",
    "ax.plot(range(1, 13), jnp.percentile(pred_probs, 5, 0), \"k+\")\n",
    "ax.plot(range(1, 13), jnp.percentile(pred_probs, 95, 0), \"k+\")\n",
    "ax.set(\n",
    "    xlabel=\"cases\",\n",
    "    ylabel=\"admit rate\",\n",
    "    title=\"Posterior Predictive Check with 90% CI\",\n",
    ")\n",
    "ax.legend()\n",
    "\n",
    "plt.savefig(\"ucbadmit_plot.pdf\")"
   ]
  },
  {
   "cell_type": "markdown",
   "metadata": {
    "id": "hVaUNn1mBt0F"
   },
   "source": [
    "# PGMs"
   ]
  },
  {
   "cell_type": "code",
   "execution_count": null,
   "metadata": {
    "colab": {
     "base_uri": "https://localhost:8080/",
     "height": 288
    },
    "id": "EOYJu0IvYyP9",
    "outputId": "c9182a6b-6f0f-4c17-9771-737d503d2966"
   },
   "outputs": [],
   "source": [
    "\n",
    "# p344\n",
    "dag = CausalGraphicalModel(\n",
    "    nodes=[\"G\", \"D\", \"A\"], edges=[(\"G\", \"D\"), (\"G\", \"A\"), (\"D\", \"A\")]\n",
    ")\n",
    "out = dag.draw()\n",
    "display(out)  \n",
    "out.render(filename='admissions_dag', format='pdf')"
   ]
  },
  {
   "cell_type": "code",
   "execution_count": null,
   "metadata": {
    "colab": {
     "base_uri": "https://localhost:8080/",
     "height": 288
    },
    "id": "fzcGU936ZIK2",
    "outputId": "aff43b4b-f9a6-4298-e603-9103019837fa"
   },
   "outputs": [],
   "source": [
    "# p345\n",
    "dag = CausalGraphicalModel(\n",
    "    nodes=[\"G\", \"D\", \"A\"],\n",
    "    edges=[(\"G\", \"D\"), (\"G\", \"A\"), (\"D\", \"A\")],\n",
    "    latent_edges = [(\"D\", \"A\")]\n",
    ")\n",
    "out = dag.draw()\n",
    "display(out)  \n",
    "out.render(filename='admissions_dag_hidden', format='pdf')"
   ]
  },
  {
   "cell_type": "markdown",
   "metadata": {
    "id": "dMRqbhs1q3Uy"
   },
   "source": [
    "# Causal inference with  the latent DAG\n",
    "\n",
    "This is based on sec 6.3 (collider bias) of the Rethinking book.\n",
    "Code is from [Du Phan](https://fehiepsi.github.io/rethinking-numpyro/06-the-haunted-dag-and-the-causal-terror.html), code snippet 6.25. We change the names to match our current example: P (parents) -> D (department), C (child) -> A (admit)."
   ]
  },
  {
   "cell_type": "markdown",
   "metadata": {
    "id": "P--fqICIuKH9"
   },
   "source": [
    "## Linear regression version"
   ]
  },
  {
   "cell_type": "code",
   "execution_count": null,
   "metadata": {
    "id": "Styoo0wXVIqv"
   },
   "outputs": [],
   "source": [
    "N = 200  # number of samples\n",
    "b_GP = 1  # direct effect of G on P\n",
    "b_GC = 0  # direct effect of G on C\n",
    "b_PC = 1  # direct effect of P on C\n",
    "b_U = 2  # direct effect of U on P and C\n",
    "\n",
    "with numpyro.handlers.seed(rng_seed=1):\n",
    "    U = 2 * numpyro.sample(\"U\", dist.Bernoulli(0.5).expand([N])) - 1\n",
    "    G = numpyro.sample(\"G\", dist.Normal().expand([N]))\n",
    "    P = numpyro.sample(\"P\", dist.Normal(b_GP * G + b_U * U))\n",
    "    C = numpyro.sample(\"C\", dist.Normal(b_PC * P + b_GC * G + b_U * U))\n",
    "    df_gauss = pd.DataFrame({\"C\": C, \"P\": P, \"G\": G, \"U\": U})"
   ]
  },
  {
   "cell_type": "code",
   "execution_count": null,
   "metadata": {
    "id": "17Tj_YW3uR8a"
   },
   "outputs": [],
   "source": [
    "def model_linreg(P, G, C):\n",
    "    a = numpyro.sample(\"a\", dist.Normal(0, 1))\n",
    "    b_PC = numpyro.sample(\"b_PC\", dist.Normal(0, 1))\n",
    "    b_GC = numpyro.sample(\"b_GC\", dist.Normal(0, 1))\n",
    "    sigma = numpyro.sample(\"sigma\", dist.Exponential(1))\n",
    "    mu = a + b_PC * P + b_GC * G\n",
    "    numpyro.sample(\"C\", dist.Normal(mu, sigma), obs=C)\n",
    "\n",
    "data_gauss = {'P': df_gauss.P.values, 'G': df_gauss.G.values, 'C': df_gauss.C.values}\n",
    "\n",
    "m6_11 = AutoLaplaceApproximation(model_linreg)\n",
    "svi = SVI(model_linreg, m6_11, optim.Adam(0.3), Trace_ELBO(), **data_gauss)\n",
    "p6_11, losses = svi.run(random.PRNGKey(0), 1000)\n",
    "post = m6_11.sample_posterior(random.PRNGKey(1), p6_11, (1000,))\n",
    "print_summary(post, 0.89, False)\n",
    "\n",
    "mcmc_run = MCMC(NUTS(model_linreg), num_warmup=200, num_samples=200, num_chains=4)\n",
    "mcmc_run.run(random.PRNGKey(0), **data)\n",
    "mcmc_run.print_summary(0.89)"
   ]
  },
  {
   "cell_type": "code",
   "execution_count": null,
   "metadata": {
    "id": "1WJ0MO-yun23"
   },
   "outputs": [],
   "source": [
    "def model_linreg_hidden(P, G, U, C):\n",
    "    a = numpyro.sample(\"a\", dist.Normal(0, 1))\n",
    "    b_PC = numpyro.sample(\"b_PC\", dist.Normal(0, 1))\n",
    "    b_GC = numpyro.sample(\"b_GC\", dist.Normal(0, 1))\n",
    "    b_U = numpyro.sample(\"U\", dist.Normal(0, 1))\n",
    "    sigma = numpyro.sample(\"sigma\", dist.Exponential(1))\n",
    "    mu = a + b_PC * P + b_GC * G + b_U * U\n",
    "    numpyro.sample(\"C\", dist.Normal(mu, sigma), obs=C)\n",
    "\n",
    "\n",
    "m6_12 = AutoLaplaceApproximation(model_linreg_hidden)\n",
    "svi = SVI(\n",
    "    model_linreg_hidden,\n",
    "    m6_12,\n",
    "    optim.Adam(1),\n",
    "    Trace_ELBO(),\n",
    "    P=d.P.values,\n",
    "    G=d.G.values,\n",
    "    U=d.U.values,\n",
    "    C=d.C.values,\n",
    ")\n",
    "p6_12, losses = svi.run(random.PRNGKey(0), 1000)\n",
    "post = m6_12.sample_posterior(random.PRNGKey(1), p6_12, (1000,))\n",
    "print_summary(post, 0.89, False)"
   ]
  },
  {
   "cell_type": "markdown",
   "metadata": {
    "id": "T29wJN6AuTHr"
   },
   "source": [
    "## Logistic regression version\n",
    "\n",
    "We modify the scenario to match the UC Berkeley admissions scenario (with binary data) in sec 11.1.4."
   ]
  },
  {
   "cell_type": "code",
   "execution_count": null,
   "metadata": {
    "id": "01b-kAurskxC"
   },
   "outputs": [],
   "source": [
    "N = 200  # number of samples\n",
    "b_GP = 1  # direct effect of G on P\n",
    "b_GC = 0  # direct effect of G on C\n",
    "b_PC = 1  # direct effect of P on C\n",
    "b_U = 2  # direct effect of U on P and C\n",
    "\n",
    "with numpyro.handlers.seed(rng_seed=1):\n",
    "    #U = 2 * numpyro.sample(\"U\", dist.Bernoulli(0.5).expand([N])) - 1\n",
    "    U = numpyro.sample(\"U\", dist.Normal().expand([N]))\n",
    "    #G = numpyro.sample(\"G\", dist.Normal().expand([N]))\n",
    "    G = numpyro.sample(\"G\", dist.Bernoulli(0.5).expand([N])) \n",
    "    P = numpyro.sample(\"P\", dist.Normal(b_GP * G + b_U * U))\n",
    "    #C = numpyro.sample(\"C\", dist.Normal(b_PC * P + b_GC * G + b_U * U))\n",
    "    logits = b_PC * P + b_GC * G + b_U * U\n",
    "    probs = expit(logits)\n",
    "    C = numpyro.sample(\"C\", dist.BernoulliProbs(probs))\n",
    "    df_binary = pd.DataFrame({\"C\": C, \"G\": G, \"P\": P,  \"U\": U, \"probs\": probs})\n",
    "\n",
    "display(df_binary.head(10))"
   ]
  },
  {
   "cell_type": "code",
   "execution_count": null,
   "metadata": {
    "id": "N5i75UBY7hNj"
   },
   "outputs": [],
   "source": [
    "def model_causal(C=None, G=None, P=None, U=None):\n",
    "    U = numpyro.sample(\"U\", dist.Normal(), obs=U)\n",
    "    G = numpyro.sample(\"G\", dist.Bernoulli(0.5), obs=G)\n",
    "    P = numpyro.sample(\"P\", dist.Normal(b_GP * G + b_U * U), obs=P) \n",
    "    logits = b_PC * P + b_GC * G + b_U * U\n",
    "    probs = expit(logits)\n",
    "    C = numpyro.sample(\"C\", dist.BernoulliProbs(probs), obs=C)\n",
    "    return np.array([C, G, P, U])\n"
   ]
  },
  {
   "cell_type": "code",
   "execution_count": null,
   "metadata": {
    "id": "Q8SRcep98R5I"
   },
   "outputs": [],
   "source": [
    "def make_samples(C=None, G=None, P=None, U=None, nsamples=200):\n",
    "  data_list = []\n",
    "  with numpyro.handlers.seed(rng_seed=0):\n",
    "    for i in range(nsamples):\n",
    "      out = model_causal(C, G, P, U)\n",
    "      data_list.append(out)\n",
    "  df = pd.DataFrame.from_records(data_list, columns=['C','G','P','U'])\n",
    "  return df\n",
    "\n",
    "df_binary = make_samples() \n",
    "display(df_binary.head())\n",
    "\n"
   ]
  },
  {
   "cell_type": "code",
   "execution_count": null,
   "metadata": {
    "id": "n4lGYRcMB1vF"
   },
   "outputs": [],
   "source": [
    "\n",
    "Cbar = df_binary['C'].values.mean()\n",
    "Gbar = df_binary['G'].values.mean()\n",
    "Pbar = df_binary['P'].values.mean()\n",
    "Ubar = df_binary['U'].values.mean()\n",
    "print([Cbar, Gbar, Pbar, Ubar])\n",
    "print(b_GP * Gbar + b_U * Ubar) # expected Pbar\n",
    "\n"
   ]
  },
  {
   "cell_type": "code",
   "execution_count": null,
   "metadata": {
    "id": "RA1ltAvl9Mjj"
   },
   "outputs": [],
   "source": [
    "N = len(df0)\n",
    "prob_admitted0 = np.sum(df0.C.values)/N\n",
    "prob_admitted1 = np.sum(df1.C.values)/N\n",
    "print([prob_admitted0, prob_admitted1])"
   ]
  },
  {
   "cell_type": "code",
   "execution_count": null,
   "metadata": {
    "id": "9jKjNnLdrPFS"
   },
   "outputs": [],
   "source": [
    "def model_logreg(C=None, G=None, P=None):\n",
    "    a = numpyro.sample(\"a\", dist.Normal(0, 1))\n",
    "    b_PC = numpyro.sample(\"b_PC\", dist.Normal(0, 0.1))\n",
    "    b_GC = numpyro.sample(\"b_GC\", dist.Normal(0, 0.1))\n",
    "    logits = a + b_PC * P + b_GC * G\n",
    "    numpyro.sample(\"C\", dist.Bernoulli(logits=logits), obs=C)\n",
    "\n",
    "data_binary = {'P': df_binary.P.values, 'G': df_binary.G.values, 'C': df_binary.C.values}\n",
    "\n",
    "warmup  = 1000\n",
    "samples = 500\n",
    "mcmc_run = MCMC(NUTS(model_logreg), num_warmup=warmup, num_samples=samples, num_chains=4)\n",
    "mcmc_run.run(random.PRNGKey(0), **data)\n",
    "mcmc_run.print_summary(0.89)"
   ]
  },
  {
   "cell_type": "markdown",
   "metadata": {
    "id": "aZCWR2nW6lyz"
   },
   "source": [
    "## Counterfactual plot\n",
    "\n",
    "Similar to p140"
   ]
  },
  {
   "cell_type": "code",
   "execution_count": null,
   "metadata": {
    "id": "bjhP_mPtDINb"
   },
   "outputs": [],
   "source": [
    "# p(C | do(G), do(P))\n",
    "Pfixed = 0\n",
    "\n",
    "df0 = make_samples(G=0, P=Pfixed, nsamples=200) \n",
    "display(df0.head())\n",
    "Cbar0 = df0['C'].values.mean()\n",
    "\n",
    "df1 = make_samples(G=1, P=Pfixed, nsamples=200) \n",
    "display(df1.head())\n",
    "Cbar1 = df1['C'].values.mean()\n",
    "\n",
    "print([Cbar0, Cbar1])"
   ]
  },
  {
   "cell_type": "code",
   "execution_count": null,
   "metadata": {
    "id": "KRONqS_twABe"
   },
   "outputs": [],
   "source": [
    "sim_dat = dict(G=jnp.array([0,1]), P=jnp.array(Pfixed))\n",
    "post = mcmc_run.get_samples()\n",
    "pred = Predictive(model_logreg, post)(random.PRNGKey(22), **sim_dat)\n",
    "print(pred['C'].shape)\n",
    "print(np.mean(pred['C'], axis=0))\n"
   ]
  },
  {
   "cell_type": "code",
   "execution_count": null,
   "metadata": {
    "id": "RLd_WHLm7zzb"
   },
   "outputs": [],
   "source": [
    "a_est = post['a'].mean()\n",
    "b_PC_est = post['b_PC'].mean()\n",
    "b_GC_est = post['b_GC'].mean()\n",
    "P = Pfixed\n",
    "\n",
    "G = np.array([0,1])\n",
    "logits = a_est + b_PC_est * P + b_GC_est * G\n",
    "np.set_printoptions(formatter={'float': lambda x: \"{0:0.3f}\".format(x)})\n",
    "print(expit(logits))"
   ]
  },
  {
   "cell_type": "code",
   "execution_count": null,
   "metadata": {
    "id": "WoXQNbK_BXGF"
   },
   "outputs": [],
   "source": [
    "pred"
   ]
  }
 ],
 "metadata": {
  "colab": {
   "collapsed_sections": [
    "aIEJ5zrH288g",
    "hVaUNn1mBt0F",
    "aZCWR2nW6lyz"
   ],
   "include_colab_link": true,
   "name": "logreg_ucb_admissions_numpyro.ipynb",
   "provenance": []
  },
  "kernelspec": {
   "display_name": "Python 3 (ipykernel)",
   "language": "python",
   "name": "python3"
  },
  "language_info": {
   "codemirror_mode": {
    "name": "ipython",
    "version": 3
   },
   "file_extension": ".py",
   "mimetype": "text/x-python",
   "name": "python",
   "nbconvert_exporter": "python",
   "pygments_lexer": "ipython3",
   "version": "3.9.10"
  }
 },
 "nbformat": 4,
 "nbformat_minor": 4
}
